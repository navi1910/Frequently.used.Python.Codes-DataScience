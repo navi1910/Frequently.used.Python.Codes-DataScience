{
  "cells": [
    {
      "cell_type": "markdown",
      "metadata": {
        "id": "nvvDPEbGwyLH"
      },
      "source": [
        "## Data Import "
      ]
    },
    {
      "cell_type": "code",
      "execution_count": null,
      "metadata": {
        "id": "cilZNO7qwyLN"
      },
      "outputs": [],
      "source": [
        "import pandas as pd\n",
        "from sklearn.impute import SimpleImputer"
      ]
    },
    {
      "cell_type": "code",
      "execution_count": null,
      "metadata": {
        "id": "RXgGqfEWwyLP",
        "outputId": "3f4fba7b-c7fe-40f7-c429-d59bbae7d78f"
      },
      "outputs": [
        {
          "data": {
            "text/html": [
              "<div>\n",
              "<style scoped>\n",
              "    .dataframe tbody tr th:only-of-type {\n",
              "        vertical-align: middle;\n",
              "    }\n",
              "\n",
              "    .dataframe tbody tr th {\n",
              "        vertical-align: top;\n",
              "    }\n",
              "\n",
              "    .dataframe thead th {\n",
              "        text-align: right;\n",
              "    }\n",
              "</style>\n",
              "<table border=\"1\" class=\"dataframe\">\n",
              "  <thead>\n",
              "    <tr style=\"text-align: right;\">\n",
              "      <th></th>\n",
              "      <th>variable1</th>\n",
              "      <th>variable2</th>\n",
              "      <th>variable3</th>\n",
              "    </tr>\n",
              "  </thead>\n",
              "  <tbody>\n",
              "    <tr>\n",
              "      <th>0</th>\n",
              "      <td>19.0</td>\n",
              "      <td>49.77</td>\n",
              "      <td>1.0</td>\n",
              "    </tr>\n",
              "    <tr>\n",
              "      <th>1</th>\n",
              "      <td>13.0</td>\n",
              "      <td>53.16</td>\n",
              "      <td>1.0</td>\n",
              "    </tr>\n",
              "    <tr>\n",
              "      <th>2</th>\n",
              "      <td>NaN</td>\n",
              "      <td>50.19</td>\n",
              "      <td>2.0</td>\n",
              "    </tr>\n",
              "    <tr>\n",
              "      <th>3</th>\n",
              "      <td>17.0</td>\n",
              "      <td>48.79</td>\n",
              "      <td>NaN</td>\n",
              "    </tr>\n",
              "    <tr>\n",
              "      <th>4</th>\n",
              "      <td>5.0</td>\n",
              "      <td>NaN</td>\n",
              "      <td>2.0</td>\n",
              "    </tr>\n",
              "    <tr>\n",
              "      <th>5</th>\n",
              "      <td>16.0</td>\n",
              "      <td>51.05</td>\n",
              "      <td>3.0</td>\n",
              "    </tr>\n",
              "    <tr>\n",
              "      <th>6</th>\n",
              "      <td>NaN</td>\n",
              "      <td>53.57</td>\n",
              "      <td>2.0</td>\n",
              "    </tr>\n",
              "    <tr>\n",
              "      <th>7</th>\n",
              "      <td>20.0</td>\n",
              "      <td>51.22</td>\n",
              "      <td>2.0</td>\n",
              "    </tr>\n",
              "    <tr>\n",
              "      <th>8</th>\n",
              "      <td>18.0</td>\n",
              "      <td>47.98</td>\n",
              "      <td>2.0</td>\n",
              "    </tr>\n",
              "    <tr>\n",
              "      <th>9</th>\n",
              "      <td>12.0</td>\n",
              "      <td>NaN</td>\n",
              "      <td>2.0</td>\n",
              "    </tr>\n",
              "    <tr>\n",
              "      <th>10</th>\n",
              "      <td>25.0</td>\n",
              "      <td>44.58</td>\n",
              "      <td>1.0</td>\n",
              "    </tr>\n",
              "    <tr>\n",
              "      <th>11</th>\n",
              "      <td>12.0</td>\n",
              "      <td>50.29</td>\n",
              "      <td>1.0</td>\n",
              "    </tr>\n",
              "    <tr>\n",
              "      <th>12</th>\n",
              "      <td>30.0</td>\n",
              "      <td>52.77</td>\n",
              "      <td>NaN</td>\n",
              "    </tr>\n",
              "    <tr>\n",
              "      <th>13</th>\n",
              "      <td>22.0</td>\n",
              "      <td>NaN</td>\n",
              "      <td>2.0</td>\n",
              "    </tr>\n",
              "  </tbody>\n",
              "</table>\n",
              "</div>"
            ],
            "text/plain": [
              "    variable1  variable2  variable3\n",
              "0        19.0      49.77        1.0\n",
              "1        13.0      53.16        1.0\n",
              "2         NaN      50.19        2.0\n",
              "3        17.0      48.79        NaN\n",
              "4         5.0        NaN        2.0\n",
              "5        16.0      51.05        3.0\n",
              "6         NaN      53.57        2.0\n",
              "7        20.0      51.22        2.0\n",
              "8        18.0      47.98        2.0\n",
              "9        12.0        NaN        2.0\n",
              "10       25.0      44.58        1.0\n",
              "11       12.0      50.29        1.0\n",
              "12       30.0      52.77        NaN\n",
              "13       22.0        NaN        2.0"
            ]
          },
          "execution_count": 5,
          "metadata": {},
          "output_type": "execute_result"
        }
      ],
      "source": [
        "imp = pd.read_csv(\"D:/ISDC Work/Content/R/Datasets/imp.csv\")\n",
        "print(imp)"
      ]
    },
    {
      "cell_type": "code",
      "execution_count": null,
      "metadata": {
        "id": "5SylV-wBwyLR",
        "outputId": "8450df08-f967-48fb-d0ea-b3e64bc6de9b"
      },
      "outputs": [
        {
          "name": "stdout",
          "output_type": "stream",
          "text": [
            "<class 'pandas.core.frame.DataFrame'>\n",
            "RangeIndex: 14 entries, 0 to 13\n",
            "Data columns (total 3 columns):\n",
            " #   Column     Non-Null Count  Dtype  \n",
            "---  ------     --------------  -----  \n",
            " 0   variable1  12 non-null     float64\n",
            " 1   variable2  11 non-null     float64\n",
            " 2   variable3  12 non-null     float64\n",
            "dtypes: float64(3)\n",
            "memory usage: 464.0 bytes\n"
          ]
        }
      ],
      "source": [
        "imp.info()"
      ]
    },
    {
      "cell_type": "code",
      "execution_count": null,
      "metadata": {
        "id": "7JqbkWoEwyLR",
        "outputId": "e542ecf9-9a3b-404d-f771-1ecf5d0916da"
      },
      "outputs": [
        {
          "data": {
            "text/html": [
              "<div>\n",
              "<style scoped>\n",
              "    .dataframe tbody tr th:only-of-type {\n",
              "        vertical-align: middle;\n",
              "    }\n",
              "\n",
              "    .dataframe tbody tr th {\n",
              "        vertical-align: top;\n",
              "    }\n",
              "\n",
              "    .dataframe thead th {\n",
              "        text-align: right;\n",
              "    }\n",
              "</style>\n",
              "<table border=\"1\" class=\"dataframe\">\n",
              "  <thead>\n",
              "    <tr style=\"text-align: right;\">\n",
              "      <th></th>\n",
              "      <th>variable1</th>\n",
              "      <th>variable2</th>\n",
              "      <th>variable3</th>\n",
              "    </tr>\n",
              "  </thead>\n",
              "  <tbody>\n",
              "    <tr>\n",
              "      <th>count</th>\n",
              "      <td>12.000000</td>\n",
              "      <td>11.000000</td>\n",
              "      <td>12.000000</td>\n",
              "    </tr>\n",
              "    <tr>\n",
              "      <th>mean</th>\n",
              "      <td>17.416667</td>\n",
              "      <td>50.306364</td>\n",
              "      <td>1.750000</td>\n",
              "    </tr>\n",
              "    <tr>\n",
              "      <th>std</th>\n",
              "      <td>6.612087</td>\n",
              "      <td>2.589515</td>\n",
              "      <td>0.621582</td>\n",
              "    </tr>\n",
              "    <tr>\n",
              "      <th>min</th>\n",
              "      <td>5.000000</td>\n",
              "      <td>44.580000</td>\n",
              "      <td>1.000000</td>\n",
              "    </tr>\n",
              "    <tr>\n",
              "      <th>25%</th>\n",
              "      <td>12.750000</td>\n",
              "      <td>49.280000</td>\n",
              "      <td>1.000000</td>\n",
              "    </tr>\n",
              "    <tr>\n",
              "      <th>50%</th>\n",
              "      <td>17.500000</td>\n",
              "      <td>50.290000</td>\n",
              "      <td>2.000000</td>\n",
              "    </tr>\n",
              "    <tr>\n",
              "      <th>75%</th>\n",
              "      <td>20.500000</td>\n",
              "      <td>51.995000</td>\n",
              "      <td>2.000000</td>\n",
              "    </tr>\n",
              "    <tr>\n",
              "      <th>max</th>\n",
              "      <td>30.000000</td>\n",
              "      <td>53.570000</td>\n",
              "      <td>3.000000</td>\n",
              "    </tr>\n",
              "  </tbody>\n",
              "</table>\n",
              "</div>"
            ],
            "text/plain": [
              "       variable1  variable2  variable3\n",
              "count  12.000000  11.000000  12.000000\n",
              "mean   17.416667  50.306364   1.750000\n",
              "std     6.612087   2.589515   0.621582\n",
              "min     5.000000  44.580000   1.000000\n",
              "25%    12.750000  49.280000   1.000000\n",
              "50%    17.500000  50.290000   2.000000\n",
              "75%    20.500000  51.995000   2.000000\n",
              "max    30.000000  53.570000   3.000000"
            ]
          },
          "execution_count": 6,
          "metadata": {},
          "output_type": "execute_result"
        }
      ],
      "source": [
        "imp.describe()"
      ]
    },
    {
      "cell_type": "markdown",
      "metadata": {
        "id": "O4SHmjf1wyLS"
      },
      "source": [
        "## Imputation using Mean of the column"
      ]
    },
    {
      "cell_type": "code",
      "execution_count": null,
      "metadata": {
        "id": "-pfMYvClwyLS",
        "outputId": "a2ac1d9a-3777-4229-f4b4-3edd62b6791d"
      },
      "outputs": [
        {
          "name": "stdout",
          "output_type": "stream",
          "text": [
            "    variable1  variable2  variable3\n",
            "0   19.000000  49.770000       1.00\n",
            "1   13.000000  53.160000       1.00\n",
            "2   17.416667  50.190000       2.00\n",
            "3   17.000000  48.790000       1.75\n",
            "4    5.000000  50.306364       2.00\n",
            "5   16.000000  51.050000       3.00\n",
            "6   17.416667  53.570000       2.00\n",
            "7   20.000000  51.220000       2.00\n",
            "8   18.000000  47.980000       2.00\n",
            "9   12.000000  50.306364       2.00\n",
            "10  25.000000  44.580000       1.00\n",
            "11  12.000000  50.290000       1.00\n",
            "12  30.000000  52.770000       1.75\n",
            "13  22.000000  50.306364       2.00\n"
          ]
        }
      ],
      "source": [
        "imp_mean = imp.fillna(imp.mean())\n",
        "print(imp_mean)"
      ]
    },
    {
      "cell_type": "markdown",
      "metadata": {
        "id": "Cg9eAO-ZwyLT"
      },
      "source": [
        "## Imputation using Median of the column"
      ]
    },
    {
      "cell_type": "code",
      "execution_count": null,
      "metadata": {
        "id": "q3tgie6awyLU",
        "outputId": "2ffd36d3-f9d2-4069-972a-a98abcd484eb"
      },
      "outputs": [
        {
          "name": "stdout",
          "output_type": "stream",
          "text": [
            "    variable1  variable2  variable3\n",
            "0        19.0      49.77        1.0\n",
            "1        13.0      53.16        1.0\n",
            "2        17.5      50.19        2.0\n",
            "3        17.0      48.79        2.0\n",
            "4         5.0      50.29        2.0\n",
            "5        16.0      51.05        3.0\n",
            "6        17.5      53.57        2.0\n",
            "7        20.0      51.22        2.0\n",
            "8        18.0      47.98        2.0\n",
            "9        12.0      50.29        2.0\n",
            "10       25.0      44.58        1.0\n",
            "11       12.0      50.29        1.0\n",
            "12       30.0      52.77        2.0\n",
            "13       22.0      50.29        2.0\n"
          ]
        }
      ],
      "source": [
        "imp_median = imp.fillna(imp.median())\n",
        "print(imp_median)"
      ]
    },
    {
      "cell_type": "markdown",
      "metadata": {
        "id": "hMKRJGcOwyLV"
      },
      "source": [
        "## Imputation using a simple value"
      ]
    },
    {
      "cell_type": "code",
      "execution_count": null,
      "metadata": {
        "id": "s7b6oRGLwyLV",
        "outputId": "164dc9e3-d898-4c29-c524-9d1d1fc1bcd2"
      },
      "outputs": [
        {
          "name": "stdout",
          "output_type": "stream",
          "text": [
            "    variable1  variable2  variable3\n",
            "0        19.0      49.77        1.0\n",
            "1        13.0      53.16        1.0\n",
            "2         4.0      50.19        2.0\n",
            "3        17.0      48.79        4.0\n",
            "4         5.0       4.00        2.0\n",
            "5        16.0      51.05        3.0\n",
            "6         4.0      53.57        2.0\n",
            "7        20.0      51.22        2.0\n",
            "8        18.0      47.98        2.0\n",
            "9        12.0       4.00        2.0\n",
            "10       25.0      44.58        1.0\n",
            "11       12.0      50.29        1.0\n",
            "12       30.0      52.77        4.0\n",
            "13       22.0       4.00        2.0\n"
          ]
        }
      ],
      "source": [
        "imp_simple = imp.fillna(4)\n",
        "print(imp_simple)"
      ]
    },
    {
      "cell_type": "markdown",
      "metadata": {
        "id": "bE8hkTEUwyLW"
      },
      "source": [
        "## Imputation using mode of the column"
      ]
    },
    {
      "cell_type": "code",
      "execution_count": null,
      "metadata": {
        "id": "wwoMStF4wyLW",
        "outputId": "9b11517a-6119-4947-9f69-f93f43001447"
      },
      "outputs": [
        {
          "name": "stdout",
          "output_type": "stream",
          "text": [
            "    Variable1  Variable2  Variable3\n",
            "0        19.0      49.77        1.0\n",
            "1        13.0      53.16        1.0\n",
            "2        12.0      50.19        2.0\n",
            "3        17.0      48.79        2.0\n",
            "4         5.0      44.58        2.0\n",
            "5        16.0      51.05        3.0\n",
            "6        12.0      53.57        2.0\n",
            "7        20.0      51.22        2.0\n",
            "8        18.0      47.98        2.0\n",
            "9        12.0      44.58        2.0\n",
            "10       25.0      44.58        1.0\n",
            "11       12.0      50.29        1.0\n",
            "12       30.0      52.77        2.0\n",
            "13       22.0      44.58        2.0\n"
          ]
        }
      ],
      "source": [
        "import numpy as np\n",
        "imputing = SimpleImputer(missing_values = np.nan, strategy = 'most_frequent')\n",
        "imp_comp = imputing.fit_transform(imp)\n",
        "imp_mode = pd.DataFrame(imp_comp, columns = ['Variable1', 'Variable2', 'Variable3'])\n",
        "print(imp_mode)"
      ]
    },
    {
      "cell_type": "markdown",
      "metadata": {
        "id": "nOREPRWQwyLX"
      },
      "source": [
        "## Imputation on specific columns\n",
        "### variable 1 -> mean\n",
        "### variable2 -> median\n",
        "### variable3 -> mode"
      ]
    },
    {
      "cell_type": "code",
      "execution_count": null,
      "metadata": {
        "id": "ixFzRBlnwyLX",
        "outputId": "fa40c5bd-875d-4b1a-f456-c58a4486060a"
      },
      "outputs": [
        {
          "name": "stdout",
          "output_type": "stream",
          "text": [
            "    variable1  variable2  variable3\n",
            "0   19.000000      49.77        1.0\n",
            "1   13.000000      53.16        1.0\n",
            "2   17.416667      50.19        2.0\n",
            "3   17.000000      48.79        2.0\n",
            "4    5.000000      50.29        2.0\n",
            "5   16.000000      51.05        3.0\n",
            "6   17.416667      53.57        2.0\n",
            "7   20.000000      51.22        2.0\n",
            "8   18.000000      47.98        2.0\n",
            "9   12.000000      50.29        2.0\n",
            "10  25.000000      44.58        1.0\n",
            "11  12.000000      50.29        1.0\n",
            "12  30.000000      52.77        2.0\n",
            "13  22.000000      50.29        2.0\n"
          ]
        }
      ],
      "source": [
        "import numpy as np\n",
        "imp_new = imp\n",
        "# variable1 -> mean\n",
        "imp_new['variable1'] = imp_new['variable1'].fillna(imp_new['variable1'].mean())\n",
        "# variable2 -> median\n",
        "imp_new['variable2'] = imp_new['variable2'].fillna(imp_new['variable2'].median())\n",
        "# variable3 -> mode\n",
        "imputing = SimpleImputer(missing_values = np.nan, strategy = 'most_frequent')\n",
        "imp_var3 = imp['variable3']\n",
        "imp_var3 = pd.DataFrame(imp_var3, columns = ['variable3'])\n",
        "imp_comp = imputing.fit_transform(imp_var3)\n",
        "imp_mode = pd.DataFrame(imp_comp, columns = ['Variable3'])\n",
        "imp_new['variable3'] = imp_mode\n",
        "print(imp_new)"
      ]
    },
    {
      "cell_type": "markdown",
      "metadata": {
        "id": "fegWe3pywyLX"
      },
      "source": [
        "## Dropping the NaN's based on rows -> Complete Cases"
      ]
    },
    {
      "cell_type": "code",
      "execution_count": null,
      "metadata": {
        "id": "bsUIqp-cwyLY",
        "outputId": "3ec6bca7-2c2c-48d5-de9f-3fcde650c144"
      },
      "outputs": [
        {
          "name": "stdout",
          "output_type": "stream",
          "text": [
            "    variable1  variable2  variable3\n",
            "0        19.0      49.77        1.0\n",
            "1        13.0      53.16        1.0\n",
            "2         NaN      50.19        2.0\n",
            "3        17.0      48.79        NaN\n",
            "4         5.0        NaN        2.0\n",
            "5        16.0      51.05        3.0\n",
            "6         NaN      53.57        2.0\n",
            "7        20.0      51.22        2.0\n",
            "8        18.0      47.98        2.0\n",
            "9        12.0        NaN        2.0\n",
            "10       25.0      44.58        1.0\n",
            "11       12.0      50.29        1.0\n",
            "12       30.0      52.77        NaN\n",
            "13       22.0        NaN        2.0\n"
          ]
        }
      ],
      "source": [
        "imp = pd.read_csv(\"D:/ISDC Work/Content/R/Datasets/imp.csv\")\n",
        "#print(imp)\n",
        "imp_drop = imp.dropna(axis = 0, how = 'any')\n",
        "print(imp_drop)"
      ]
    },
    {
      "cell_type": "code",
      "execution_count": null,
      "metadata": {
        "id": "QYYuTa2pwyLY"
      },
      "outputs": [],
      "source": []
    }
  ],
  "metadata": {
    "kernelspec": {
      "display_name": "Python 3",
      "language": "python",
      "name": "python3"
    },
    "language_info": {
      "codemirror_mode": {
        "name": "ipython",
        "version": 3
      },
      "file_extension": ".py",
      "mimetype": "text/x-python",
      "name": "python",
      "nbconvert_exporter": "python",
      "pygments_lexer": "ipython3",
      "version": "3.7.3"
    },
    "colab": {
      "provenance": []
    }
  },
  "nbformat": 4,
  "nbformat_minor": 0
}